{
 "cells": [
  {
   "metadata": {},
   "cell_type": "markdown",
   "source": "# Увидит ли эмбеддинговая модель схожесть между кодом и текстом автотеста???",
   "id": "d7d4bd183696b71e"
  },
  {
   "metadata": {
    "ExecuteTime": {
     "end_time": "2024-08-16T10:53:41.694567Z",
     "start_time": "2024-08-16T10:53:41.680419Z"
    }
   },
   "cell_type": "code",
   "source": [
    "import pandas as pd\n",
    "import regex as re\n",
    "import torch\n",
    "import math\n",
    "from torch import Tensor\n",
    "import torch.nn.functional as F\n",
    "from typing import List\n",
    "from transformers import AutoTokenizer, AutoModel\n",
    "\n",
    "if torch.cuda.is_available():\n",
    "    device = torch.device('cuda')\n",
    "else:\n",
    "    device = torch.device('cpu')\n",
    "\n",
    "test_dataset = pd.read_excel('253951.xlsx')\n",
    "\n",
    "def prepare_df(df: pd.DataFrame) -> List[pd.DataFrame]:\n",
    "    def remove_columns_step(dataset: pd.DataFrame) -> pd.DataFrame:\n",
    "        output_dataset = dataset[\n",
    "            [\"Id\", \"Direction\", \"Section\", \"TestCaseName\", \"Preconditions\", \"Steps\", \"Postconditions\",\n",
    "                 \"ExpectedResult\"]].copy()\n",
    "        output_dataset[[\"Id\", \"Direction\", \"Section\", \"TestCaseName\"]] = output_dataset[\n",
    "                [\"Id\", \"Direction\", \"Section\", \"TestCaseName\"]].ffill()\n",
    "        \n",
    "        return output_dataset\n",
    "\n",
    "    output_first_step = remove_columns_step(df)\n",
    "\n",
    "    def parse_tests_by_id(dataset: pd.DataFrame) -> List[pd.DataFrame]:\n",
    "        test_cases = []\n",
    "        for group_name, frame in dataset.groupby('Id'):\n",
    "            test_cases.append(frame)\n",
    "\n",
    "        return test_cases\n",
    "\n",
    "    output_second_step = parse_tests_by_id(output_first_step)\n",
    "\n",
    "    def remove_empty_cells(array: List[pd.DataFrame]) -> List[pd.DataFrame]:\n",
    "        def up_cells(tst_case: pd.DataFrame, column: str) -> pd.DataFrame:\n",
    "            for i in range(len(tst_case[column])):\n",
    "                if i == len(tst_case.index) - 1:\n",
    "                    tst_case.at[tst_case.index[i], column] = math.nan\n",
    "                    break\n",
    "                else:\n",
    "                    tst_case.at[tst_case.index[i], column] = tst_case.at[tst_case.index[i + 1], column]\n",
    "\n",
    "            return tst_case\n",
    "\n",
    "        for dframe in array:\n",
    "            for col in [\"Preconditions\", \"Steps\", \"Postconditions\", \"ExpectedResult\"]:\n",
    "                dframe = up_cells(dframe, col)\n",
    "\n",
    "            dframe[\"Steps\"] = dframe[\"Steps\"].fillna(dframe[\"Preconditions\"])\n",
    "            dframe[\"Steps\"] = dframe[\"Steps\"].fillna(dframe[\"Postconditions\"])\n",
    "            dframe.drop([\"Preconditions\", \"Postconditions\"], inplace=True, axis=1)\n",
    "\n",
    "        return array\n",
    "\n",
    "    output_third_step = remove_empty_cells(output_second_step)\n",
    "    return output_third_step\n",
    "\n",
    "prepared_df = prepare_df(test_dataset)"
   ],
   "id": "3c6882854f2f505a",
   "outputs": [
    {
     "data": {
      "text/plain": [
       "         Id                                          Direction  \\\n",
       "0  253951.0  РТ_ЕФР/РТ_Тест-кейсы_функциональные/1. Общий ф...   \n",
       "1  253951.0  РТ_ЕФР/РТ_Тест-кейсы_функциональные/1. Общий ф...   \n",
       "2  253951.0  РТ_ЕФР/РТ_Тест-кейсы_функциональные/1. Общий ф...   \n",
       "3  253951.0  РТ_ЕФР/РТ_Тест-кейсы_функциональные/1. Общий ф...   \n",
       "\n",
       "                                             Section  \\\n",
       "0  BIQ 12853 (Новый фронт) Личный каб. в ЕФР по з...   \n",
       "1  BIQ 12853 (Новый фронт) Личный каб. в ЕФР по з...   \n",
       "2  BIQ 12853 (Новый фронт) Личный каб. в ЕФР по з...   \n",
       "3  BIQ 12853 (Новый фронт) Личный каб. в ЕФР по з...   \n",
       "\n",
       "                                        TestCaseName  \\\n",
       "0  Переход в форму с детальной информацией по задаче   \n",
       "1  Переход в форму с детальной информацией по задаче   \n",
       "2  Переход в форму с детальной информацией по задаче   \n",
       "3  Переход в форму с детальной информацией по задаче   \n",
       "\n",
       "                                               Steps  \\\n",
       "0                 Выполнен вход в новую карточку ЕФР   \n",
       "1  Открыт раздел «Личный кабинет» - «Задачи работ...   \n",
       "2                          Нажать на название задачи   \n",
       "3                                                NaN   \n",
       "\n",
       "                                      ExpectedResult  \n",
       "0                                                NaN  \n",
       "1                                                NaN  \n",
       "2  Открывается блок с детальной информацией по за...  \n",
       "3                                                NaN  "
      ],
      "text/html": [
       "<div>\n",
       "<style scoped>\n",
       "    .dataframe tbody tr th:only-of-type {\n",
       "        vertical-align: middle;\n",
       "    }\n",
       "\n",
       "    .dataframe tbody tr th {\n",
       "        vertical-align: top;\n",
       "    }\n",
       "\n",
       "    .dataframe thead th {\n",
       "        text-align: right;\n",
       "    }\n",
       "</style>\n",
       "<table border=\"1\" class=\"dataframe\">\n",
       "  <thead>\n",
       "    <tr style=\"text-align: right;\">\n",
       "      <th></th>\n",
       "      <th>Id</th>\n",
       "      <th>Direction</th>\n",
       "      <th>Section</th>\n",
       "      <th>TestCaseName</th>\n",
       "      <th>Steps</th>\n",
       "      <th>ExpectedResult</th>\n",
       "    </tr>\n",
       "  </thead>\n",
       "  <tbody>\n",
       "    <tr>\n",
       "      <th>0</th>\n",
       "      <td>253951.0</td>\n",
       "      <td>РТ_ЕФР/РТ_Тест-кейсы_функциональные/1. Общий ф...</td>\n",
       "      <td>BIQ 12853 (Новый фронт) Личный каб. в ЕФР по з...</td>\n",
       "      <td>Переход в форму с детальной информацией по задаче</td>\n",
       "      <td>Выполнен вход в новую карточку ЕФР</td>\n",
       "      <td>NaN</td>\n",
       "    </tr>\n",
       "    <tr>\n",
       "      <th>1</th>\n",
       "      <td>253951.0</td>\n",
       "      <td>РТ_ЕФР/РТ_Тест-кейсы_функциональные/1. Общий ф...</td>\n",
       "      <td>BIQ 12853 (Новый фронт) Личный каб. в ЕФР по з...</td>\n",
       "      <td>Переход в форму с детальной информацией по задаче</td>\n",
       "      <td>Открыт раздел «Личный кабинет» - «Задачи работ...</td>\n",
       "      <td>NaN</td>\n",
       "    </tr>\n",
       "    <tr>\n",
       "      <th>2</th>\n",
       "      <td>253951.0</td>\n",
       "      <td>РТ_ЕФР/РТ_Тест-кейсы_функциональные/1. Общий ф...</td>\n",
       "      <td>BIQ 12853 (Новый фронт) Личный каб. в ЕФР по з...</td>\n",
       "      <td>Переход в форму с детальной информацией по задаче</td>\n",
       "      <td>Нажать на название задачи</td>\n",
       "      <td>Открывается блок с детальной информацией по за...</td>\n",
       "    </tr>\n",
       "    <tr>\n",
       "      <th>3</th>\n",
       "      <td>253951.0</td>\n",
       "      <td>РТ_ЕФР/РТ_Тест-кейсы_функциональные/1. Общий ф...</td>\n",
       "      <td>BIQ 12853 (Новый фронт) Личный каб. в ЕФР по з...</td>\n",
       "      <td>Переход в форму с детальной информацией по задаче</td>\n",
       "      <td>NaN</td>\n",
       "      <td>NaN</td>\n",
       "    </tr>\n",
       "  </tbody>\n",
       "</table>\n",
       "</div>"
      ]
     },
     "execution_count": 9,
     "metadata": {},
     "output_type": "execute_result"
    }
   ],
   "execution_count": 9
  },
  {
   "metadata": {},
   "cell_type": "markdown",
   "source": "# Векторизация тест-кейса",
   "id": "aa5862da13724a49"
  },
  {
   "metadata": {
    "ExecuteTime": {
     "end_time": "2024-08-16T10:53:42.939154Z",
     "start_time": "2024-08-16T10:53:41.695329Z"
    }
   },
   "cell_type": "code",
   "source": [
    "def process_df(dataset: List[pd.DataFrame] or str) -> List[Tensor] or Tensor:\n",
    "    def mean_pooling(model_output, attention_mask) -> Tensor:\n",
    "        token_embeddings = model_output[0]  # First element of model_output contains all token embeddings\n",
    "        input_mask_expanded = attention_mask.unsqueeze(-1).expand(token_embeddings.size()).float()\n",
    "        return torch.sum(token_embeddings * input_mask_expanded, 1) / torch.clamp(input_mask_expanded.sum(1), min=1e-9)\n",
    "        \n",
    "    tokenizer = AutoTokenizer.from_pretrained('sentence-transformers/paraphrase-multilingual-mpnet-base-v2')\n",
    "    model = AutoModel.from_pretrained('sentence-transformers/paraphrase-multilingual-mpnet-base-v2')\n",
    "    mpnet_vectorized_output_array = []\n",
    "\n",
    "    model.to(device)\n",
    "    \n",
    "    if type(dataset) is list:\n",
    "        for test_case in dataset:\n",
    "            # Tokenize\n",
    "            encoded_input = tokenizer(re.sub(r'\\n+', '', str(test_case)), return_tensors='pt', padding=True, truncation=True,\n",
    "                                      max_length=512).to(device)\n",
    "            # Compute token embeddings\n",
    "            with torch.no_grad():\n",
    "                model_output = model(**encoded_input)\n",
    "\n",
    "            # Perform pooling. In this case, average pooling\n",
    "            embedding = mean_pooling(model_output, encoded_input['attention_mask'])\n",
    "            mpnet_vectorized_output_array.append(F.normalize(embedding, p=2, dim=1))\n",
    "            \n",
    "        return mpnet_vectorized_output_array    \n",
    "    \n",
    "    elif type(dataset) is str:\n",
    "        encoded_input = tokenizer(dataset, return_tensors='pt', padding=True, truncation=True,\n",
    "                                      max_length=512).to(device)\n",
    "        # Compute token embeddings\n",
    "        with torch.no_grad():\n",
    "            model_output = model(**encoded_input)\n",
    "\n",
    "        # Perform pooling. In this case, average pooling\n",
    "        embedding = mean_pooling(model_output, encoded_input['attention_mask'])\n",
    "        \n",
    "        return F.normalize(embedding, p=2, dim=1)\n",
    "    \n",
    "    else:\n",
    "        raise NotImplementedError\n",
    "    \n",
    "\n",
    "vectorized_test_case = process_df(prepared_df)\n",
    "vectorized_test_case[0]"
   ],
   "id": "b0499a04e78f9381",
   "outputs": [
    {
     "data": {
      "text/plain": [
       "tensor([[-2.6771e-03, -9.5545e-05, -1.1359e-02,  1.8348e-02,  2.0850e-02,\n",
       "          1.7338e-02,  1.9728e-02,  2.5303e-02,  3.0972e-02,  7.8677e-02,\n",
       "          6.1934e-02,  3.2747e-02,  3.1847e-02,  1.1097e-01, -1.2086e-02,\n",
       "         -7.2803e-02,  1.7746e-02, -2.1947e-02, -3.7106e-02,  4.3827e-02,\n",
       "          5.4526e-02,  1.3394e-03, -5.4130e-03, -2.6022e-02, -9.7015e-03,\n",
       "         -5.0743e-04, -8.3984e-03,  3.2642e-02,  4.1832e-02,  2.0367e-02,\n",
       "          4.8569e-02,  3.3681e-02,  4.1542e-03, -9.9981e-02,  1.2349e-02,\n",
       "         -2.2814e-03, -2.9722e-02, -2.2047e-04, -5.7230e-03, -6.3948e-03,\n",
       "          3.1178e-02, -8.1521e-02, -1.3933e-02, -1.5467e-02, -5.7738e-02,\n",
       "         -3.9074e-02, -3.0770e-02,  9.0789e-02,  2.6580e-02,  2.3618e-02,\n",
       "          4.2688e-03,  5.3476e-02, -1.6033e-02,  4.0568e-02,  8.4588e-02,\n",
       "         -8.5842e-02, -2.4194e-02,  3.5823e-02, -1.1013e-02, -1.3713e-02,\n",
       "         -2.6246e-02,  5.6813e-03,  1.8932e-02,  9.5207e-03, -3.2548e-02,\n",
       "         -7.7591e-03,  9.5704e-02, -8.8811e-03, -4.0240e-02, -1.9704e-02,\n",
       "          6.2080e-02,  6.7896e-02, -1.9207e-02, -1.8727e-02, -4.7016e-03,\n",
       "         -4.4667e-02, -2.2286e-02, -4.8979e-02, -8.2847e-03, -2.2395e-02,\n",
       "          5.2017e-02,  3.5711e-02, -3.4919e-02, -3.0466e-02, -2.0424e-03,\n",
       "          4.0987e-02,  4.9817e-04, -8.0170e-04,  2.3337e-02, -3.9876e-03,\n",
       "          4.1334e-02, -5.8325e-02, -6.4762e-03, -1.1733e-02, -3.2620e-02,\n",
       "          1.0201e-02, -4.1781e-03,  3.6613e-02,  4.8326e-02,  3.9428e-02,\n",
       "         -8.8592e-03,  4.8392e-02, -1.1481e-03,  2.4556e-02,  1.4037e-02,\n",
       "         -3.5296e-02, -3.8280e-02,  6.0423e-03, -1.9356e-02,  3.7652e-02,\n",
       "          3.4635e-03, -1.7897e-02, -2.7947e-02,  1.0209e-02,  4.4469e-02,\n",
       "          2.0719e-02,  8.4323e-03,  2.4092e-02, -2.5092e-02, -2.1985e-02,\n",
       "          8.8553e-02, -6.2531e-02, -2.5737e-02,  2.4339e-03, -1.0195e-02,\n",
       "         -2.6314e-02,  3.8485e-03, -6.2464e-03, -4.0846e-03,  3.9911e-02,\n",
       "          1.3699e-02, -3.6274e-02, -1.3480e-02,  5.3640e-03, -6.0443e-03,\n",
       "          1.2078e-02,  3.2411e-03, -5.4872e-02, -2.0179e-02, -5.4193e-02,\n",
       "          2.4140e-02, -2.6487e-02, -4.0244e-02, -1.4874e-02, -3.6948e-02,\n",
       "          1.4194e-03, -2.4900e-02,  2.7016e-02, -3.3544e-03,  2.0828e-02,\n",
       "         -1.4050e-03,  3.9352e-02,  2.0056e-02,  2.6974e-03,  2.0480e-03,\n",
       "          5.1244e-02, -4.8319e-02,  8.7849e-03, -7.5825e-02, -3.3486e-02,\n",
       "         -7.2271e-02, -1.5691e-02, -1.8917e-02,  2.1266e-02,  4.0596e-02,\n",
       "          6.2294e-02, -3.8594e-02, -5.1499e-03,  3.7824e-02, -3.5541e-02,\n",
       "         -4.8741e-02,  3.9918e-02,  2.4060e-02,  1.2434e-02, -7.5388e-03,\n",
       "          6.1490e-02,  4.6751e-02, -3.0036e-02, -1.7351e-02, -9.9402e-03,\n",
       "         -4.9156e-02,  4.9966e-02,  3.3261e-02,  1.7069e-02, -2.9280e-03,\n",
       "          1.1545e-02, -2.6115e-02, -1.4183e-03, -2.8926e-02, -7.5167e-03,\n",
       "          2.0132e-02, -7.6441e-03, -1.8455e-03,  1.2513e-02,  1.5713e-02,\n",
       "          3.4632e-03, -3.5403e-02, -5.9374e-02,  3.3171e-02,  3.4552e-02,\n",
       "          1.9951e-02, -6.3482e-02,  2.2236e-02,  3.0668e-02,  3.1254e-03,\n",
       "         -5.2060e-02, -1.9280e-02,  2.5511e-03,  1.2361e-03,  2.0778e-02,\n",
       "          8.9437e-02,  3.3062e-02, -3.9689e-03, -2.1199e-02, -2.6873e-02,\n",
       "         -1.8102e-02,  7.0202e-03, -1.1256e-02, -1.0534e-01, -2.4453e-02,\n",
       "         -1.8706e-02,  2.9691e-02, -4.1379e-02,  5.6196e-03, -7.6210e-04,\n",
       "          5.3761e-02, -2.2700e-02, -1.1116e-02, -3.1066e-02, -6.3413e-03,\n",
       "          1.5851e-02,  2.1623e-02,  2.2408e-02, -1.4172e-03, -1.7263e-02,\n",
       "          2.2049e-02,  4.0643e-03,  4.5739e-02,  2.1946e-02, -2.3104e-02,\n",
       "         -6.5925e-02,  4.3690e-03, -2.6567e-02, -5.6427e-03,  4.5319e-02,\n",
       "          2.1684e-03,  2.4863e-02,  1.4248e-02,  2.2608e-02,  1.4981e-02,\n",
       "          5.0024e-03,  1.8428e-02,  1.9027e-03, -3.6988e-02,  3.9699e-02,\n",
       "          5.6868e-03, -8.6968e-02,  2.9114e-02, -1.9845e-02,  3.1723e-02,\n",
       "          4.2006e-02,  6.7757e-03, -3.4840e-02, -6.8174e-02,  2.7534e-02,\n",
       "          8.9441e-03,  3.6096e-02, -4.4313e-02,  6.4874e-03,  1.0319e-02,\n",
       "          2.0686e-02,  2.0729e-02, -1.8527e-02, -2.7708e-02, -5.6196e-03,\n",
       "         -1.9479e-02,  1.4388e-02,  1.6834e-02, -1.6623e-02,  3.9052e-02,\n",
       "          4.3625e-02, -1.9707e-02, -4.8867e-04, -4.1206e-02, -6.4484e-02,\n",
       "          4.3313e-02,  5.8807e-04, -7.5533e-02, -1.2922e-02, -2.4349e-02,\n",
       "          2.2344e-03, -3.1537e-03,  6.8361e-03, -2.9554e-03, -2.9317e-02,\n",
       "         -8.8641e-03,  3.4748e-04, -3.6314e-03,  1.0327e-02,  4.1281e-02,\n",
       "          9.4875e-03,  1.1004e-02, -1.1876e-02,  5.1465e-03, -1.6852e-02,\n",
       "          2.3784e-02,  1.2880e-02, -2.4708e-02,  6.4339e-02,  2.1713e-02,\n",
       "          3.5427e-02,  9.7907e-03,  4.3813e-03,  8.1688e-02, -3.5037e-02,\n",
       "          1.6831e-02,  1.7174e-02, -2.1483e-02,  2.4056e-02,  7.0899e-02,\n",
       "          1.3875e-02, -1.7381e-02,  1.8198e-02,  1.9838e-02,  9.5220e-03,\n",
       "         -5.5239e-02, -4.7727e-02, -1.1187e-02,  4.4802e-02, -8.2962e-03,\n",
       "          3.8431e-02,  3.9571e-02,  1.0765e-05, -1.4634e-02, -1.7581e-02,\n",
       "         -1.0718e-02,  3.8727e-02,  2.0025e-02, -1.7781e-02,  8.6172e-03,\n",
       "         -1.3287e-02, -4.8524e-03,  1.5597e-03, -2.9779e-03,  5.9112e-02,\n",
       "          4.4452e-02,  3.3897e-02,  4.2907e-02,  4.5174e-02,  4.3239e-03,\n",
       "          1.0570e-02,  9.3386e-03, -1.0029e-02, -7.4739e-04,  4.9776e-03,\n",
       "         -2.8301e-02,  2.2170e-02,  2.8756e-02, -2.3237e-02, -4.0221e-03,\n",
       "          8.0237e-03,  1.6159e-02,  6.3316e-02,  4.3525e-02, -4.1004e-02,\n",
       "         -2.8848e-02, -7.2808e-04,  1.3917e-03, -1.5624e-02, -9.5120e-03,\n",
       "          3.1823e-03, -1.5220e-02,  3.2909e-02,  1.7699e-03,  1.3587e-02,\n",
       "          7.6741e-03,  2.0155e-02, -2.8351e-02, -4.3372e-02, -4.4779e-03,\n",
       "          2.5361e-02, -9.8390e-02,  1.4605e-01, -8.8704e-03,  5.0104e-03,\n",
       "         -2.0320e-02, -1.4052e-02, -1.6355e-02, -2.5076e-02,  1.0711e-01,\n",
       "         -1.1528e-02, -7.3489e-02, -9.1041e-02, -1.1609e-02, -1.2921e-03,\n",
       "          6.5940e-02, -3.3327e-02,  5.6405e-02,  8.0825e-03, -9.5753e-03,\n",
       "          9.6668e-03,  5.8824e-03, -4.7380e-02, -1.2249e-02,  5.3243e-02,\n",
       "         -1.2365e-02, -1.5735e-02, -2.8826e-02, -7.7122e-03, -4.4335e-02,\n",
       "          9.6560e-02, -5.9137e-02,  1.7826e-02, -2.0560e-02,  2.6989e-02,\n",
       "          3.6393e-02, -3.8419e-02, -3.0660e-02,  7.1768e-04,  4.8658e-03,\n",
       "          5.4408e-03,  9.3317e-03,  3.3879e-02, -2.5029e-02, -6.3859e-02,\n",
       "         -2.1240e-02,  7.5874e-02,  6.5568e-02,  2.4275e-02, -1.0907e-02,\n",
       "         -6.0699e-03,  4.1919e-02, -4.8669e-02,  7.6491e-02, -6.1657e-02,\n",
       "         -2.9174e-02,  4.8116e-02, -5.1349e-03, -2.9470e-02, -5.0457e-02,\n",
       "         -2.3132e-02,  1.5800e-02,  1.4200e-01, -2.0446e-02,  2.8940e-02,\n",
       "          1.9624e-02, -7.8112e-03, -8.6680e-02, -5.4103e-02,  5.9798e-02,\n",
       "         -8.4124e-03, -3.2572e-02, -5.2513e-02,  2.2021e-03,  2.4637e-02,\n",
       "         -5.4474e-03,  5.3085e-02, -6.4636e-02, -4.2820e-02,  2.5726e-02,\n",
       "         -1.2477e-03,  6.2565e-02, -9.1648e-02, -3.6162e-02, -2.2632e-02,\n",
       "         -7.4094e-02,  3.1106e-02,  3.7736e-02,  5.6805e-03, -3.0901e-02,\n",
       "         -3.5820e-02,  6.3617e-03,  5.8714e-03,  6.6639e-02,  2.8406e-02,\n",
       "          3.8029e-02, -3.2537e-02, -7.8927e-02,  4.2573e-02,  1.2767e-03,\n",
       "          2.7590e-02,  4.4691e-02, -1.1527e-02, -6.2956e-02, -1.5106e-02,\n",
       "         -5.6889e-02,  3.3414e-03, -1.9501e-02, -3.8495e-04, -2.1657e-02,\n",
       "          5.2395e-02,  2.4920e-02,  1.0952e-02,  6.1083e-02, -4.6535e-02,\n",
       "          1.4875e-02,  4.9305e-02,  1.4271e-02,  5.1028e-02,  1.1385e-02,\n",
       "          2.4989e-02, -1.6043e-02, -6.2746e-04, -8.2488e-03,  7.6214e-03,\n",
       "          6.3623e-02,  2.2315e-02,  4.0020e-02,  1.3050e-02, -3.3713e-02,\n",
       "          1.6534e-03,  5.1141e-02, -3.9053e-02, -1.0637e-01, -6.4947e-04,\n",
       "          1.8730e-03, -4.3866e-02,  1.0805e-02,  1.5965e-02, -9.7219e-05,\n",
       "          1.0761e-02,  9.0225e-03,  2.4822e-02, -1.3791e-02,  4.6228e-02,\n",
       "          2.8799e-02,  3.5964e-02, -1.6228e-02,  9.9785e-03,  9.0363e-03,\n",
       "         -4.5302e-02,  1.2720e-03,  1.4220e-02, -3.6418e-03, -9.2581e-03,\n",
       "          3.5694e-02,  3.9134e-02,  2.2209e-02, -2.7117e-02, -1.4011e-02,\n",
       "         -5.0371e-02,  4.8976e-02,  6.4977e-02,  1.7779e-02,  5.7861e-03,\n",
       "          2.5940e-02,  3.5762e-02, -4.5460e-02,  3.1078e-02,  1.6201e-02,\n",
       "          1.5179e-02, -1.8389e-02,  1.9758e-02, -2.9732e-03,  4.0206e-02,\n",
       "         -1.7684e-02, -5.7484e-03, -3.2435e-02,  1.6340e-02, -2.0095e-02,\n",
       "          1.4962e-02, -3.8756e-02, -2.1187e-02,  2.6210e-02, -3.8529e-02,\n",
       "         -2.0083e-02,  6.5689e-03, -1.8369e-02, -6.8713e-03,  4.4378e-04,\n",
       "          1.4269e-02, -3.9157e-02, -3.1459e-02,  1.8730e-04, -3.9413e-02,\n",
       "          2.6377e-02,  3.9253e-02,  3.1380e-02,  3.2570e-02, -4.2193e-02,\n",
       "          2.2128e-02, -8.3180e-03,  1.4458e-02,  5.7329e-04, -8.5597e-02,\n",
       "         -1.9428e-02, -2.2411e-02, -2.4599e-02,  1.3146e-02,  8.7747e-03,\n",
       "         -3.8263e-02,  2.5416e-02, -2.1209e-02, -2.8446e-02, -1.6784e-02,\n",
       "          1.0967e-03,  2.3165e-02,  1.6608e-02,  1.6453e-02, -1.2684e-02,\n",
       "          4.3756e-02, -7.5620e-02,  1.0611e-02,  1.1861e-02,  1.2941e-02,\n",
       "          3.1927e-02,  1.0135e-02,  4.0661e-02, -3.5007e-02, -1.1257e-02,\n",
       "         -6.8708e-02, -1.7992e-02,  2.6746e-02, -8.7182e-02, -2.7337e-02,\n",
       "          1.8773e-02,  7.9070e-03,  2.9267e-02, -7.6005e-03, -5.4603e-03,\n",
       "         -1.0620e-02, -2.1624e-02, -3.0486e-02,  9.0945e-02,  2.8704e-02,\n",
       "          4.5106e-02,  2.9739e-02,  2.6883e-02, -8.4551e-02, -5.1452e-03,\n",
       "          7.4026e-02, -6.2723e-02, -9.9972e-03,  1.6181e-02,  1.5980e-03,\n",
       "          4.8641e-02, -5.7517e-02,  5.0334e-02, -2.4952e-02, -9.3757e-03,\n",
       "         -4.3995e-03, -4.2979e-02, -3.4345e-02, -1.2620e-02,  3.2032e-02,\n",
       "         -3.6113e-02,  1.1986e-02,  4.3048e-02,  1.2438e-02,  3.0003e-02,\n",
       "          4.2419e-02,  5.3962e-03,  1.8625e-02,  3.4147e-02, -2.9724e-02,\n",
       "         -2.4816e-02,  1.3911e-02,  5.4760e-03,  6.7920e-03,  5.9727e-03,\n",
       "          3.3820e-03,  1.2210e-02,  5.4664e-03, -6.6588e-03, -8.7481e-03,\n",
       "         -5.0478e-02,  1.4484e-02,  2.2364e-02,  1.7426e-02,  7.5019e-02,\n",
       "          1.1548e-02,  1.4639e-02, -1.0437e-02,  2.2417e-02,  9.1224e-03,\n",
       "         -2.6780e-02, -5.1246e-02,  7.9305e-02,  2.5055e-02,  1.6917e-02,\n",
       "         -1.8819e-03, -7.2762e-03, -6.7804e-03,  4.4704e-02,  2.8066e-02,\n",
       "         -1.5200e-02,  1.0373e-02,  5.1111e-02,  1.9015e-02,  3.5932e-02,\n",
       "          2.0944e-02,  6.4390e-02,  7.6140e-02, -2.3945e-02, -5.7869e-02,\n",
       "         -1.9269e-02,  1.9470e-02,  1.2882e-02,  1.9861e-02,  2.6638e-02,\n",
       "          3.3311e-03, -3.8528e-02,  3.6751e-02, -4.1113e-02, -9.1302e-02,\n",
       "          4.8639e-02, -4.6150e-02, -5.5422e-02, -1.8692e-03, -2.9443e-02,\n",
       "          1.8707e-02,  3.6537e-02, -5.2658e-03, -9.1010e-03,  3.8837e-02,\n",
       "          1.1428e-02, -3.2553e-02,  1.9515e-02,  1.5919e-02, -1.3027e-02,\n",
       "          8.8554e-02, -1.7307e-02,  8.8284e-02,  4.3147e-02, -8.6490e-03,\n",
       "         -2.0926e-02,  4.1014e-02,  3.5432e-02, -3.2940e-02,  1.0539e-02,\n",
       "          6.4112e-02, -8.3346e-04,  2.0771e-02,  3.4569e-02, -7.0412e-02,\n",
       "         -1.1034e-03,  8.7608e-02, -3.0790e-02, -4.4146e-02,  4.9814e-02,\n",
       "         -3.8809e-02,  2.7373e-02,  7.6981e-02, -1.1761e-02, -9.7987e-03,\n",
       "         -1.4510e-03,  6.6560e-03, -5.5209e-03,  9.5569e-02, -3.7902e-02,\n",
       "         -3.8619e-02,  3.6821e-02, -2.1509e-02,  1.1206e-02, -4.1487e-02,\n",
       "         -3.5142e-02,  4.3975e-02, -1.8856e-02,  2.6449e-02,  3.3522e-02,\n",
       "         -1.3363e-02,  3.2849e-02, -1.8081e-02, -4.1498e-02,  1.1629e-02,\n",
       "          6.1950e-02, -7.3230e-02, -4.5052e-02]], device='cuda:0')"
      ]
     },
     "execution_count": 10,
     "metadata": {},
     "output_type": "execute_result"
    }
   ],
   "execution_count": 10
  },
  {
   "metadata": {
    "ExecuteTime": {
     "end_time": "2024-08-16T10:53:42.941876Z",
     "start_time": "2024-08-16T10:53:42.939879Z"
    }
   },
   "cell_type": "code",
   "source": "type(vectorized_test_case[0])",
   "id": "a78abdeefb2377e7",
   "outputs": [
    {
     "data": {
      "text/plain": [
       "torch.Tensor"
      ]
     },
     "execution_count": 11,
     "metadata": {},
     "output_type": "execute_result"
    }
   ],
   "execution_count": 11
  },
  {
   "metadata": {},
   "cell_type": "markdown",
   "source": "# Векторизация авто-тестов",
   "id": "80c5053871d7f0ff"
  },
  {
   "metadata": {
    "ExecuteTime": {
     "end_time": "2024-08-16T10:53:42.972524Z",
     "start_time": "2024-08-16T10:53:42.942506Z"
    }
   },
   "cell_type": "code",
   "source": [
    "with open('autotest_with_comments.txt', 'r', encoding='utf-8') as file:\n",
    "    autotest_with_comments = file.read()\n",
    "\n",
    "with open('autotest_without_comments.txt', 'r', encoding='utf-8') as file:\n",
    "    autotest_without_comments = file.read()\n",
    "    \n",
    "with open('another_autotest.txt', 'r', encoding='utf-8') as file:\n",
    "    another_autotest = file.read()\n",
    "    \n",
    "type(autotest_with_comments)"
   ],
   "id": "924d2d91f011f161",
   "outputs": [
    {
     "name": "stdout",
     "output_type": "stream",
     "text": [
      "package ru.rshb.tests.general_functionality;\n",
      "\n",
      "import com.codeborne.selenide.Condition;\n",
      "import io.qameta.allure.Owner;\n",
      "import lombok.extern.log4j.Log4j2;\n",
      "import org.openqa.selenium.By;\n",
      "import org.testng.annotations.Test;\n",
      "import io.qameta.allure.Description;\n",
      "\n",
      "import static com.codeborne.selenide.Selenide.$;\n",
      "import static com.codeborne.selenide.Selenide.open;\n",
      "import ru.rshb.ai.entities.AIStand;\n",
      "import ru.rshb.ai.entities.AIWebUser;\n",
      "import ru.rshb.entities.WebUser;\n",
      "import ru.rshb.pages.NewEfrLoginPage;\n",
      "import ru.rshb.ai.pages.PersonalAccountPage;\n",
      "import main.java.ru.rshb.testitwork.annotations.TestitStatus;\n",
      "\n",
      "@Log4j2\n",
      "@Owner(\"Генеративова Интехия Ионовна\")\n",
      "public class TK253951Test extends GeneralFunctionalityHelper {\n",
      "\n",
      "    @Test(groups = {\"@253951\"})\n",
      "    @Description(\"TK:253951, АТ:600044\")\n",
      "    @TestitStatus(autoTestId = \"600044\", autoTestExternalId = \"@253951\")\n",
      "    public void Autotest() throws Exception {\n",
      "\n",
      "        // Русское имя метода в Аллюр\n",
      "        allureReport.replaceTestMethodName(\"Переход в форму с детальной информацией по задаче\");\n",
      "\n",
      "        // Подготовка данных\n",
      "        AIStand stand = AIStand.getInstance(generalUtil.getEnvironmentVariable(\"env.name\"), \"stands.yaml\");\n",
      "\n",
      "        // Использовать заданного пользователя с ролью rf_m_oper4\n",
      "        String userLogin = \"rf_m_oper4\";\n",
      "        AIWebUser aiWebUser = AIWebUser.getInstance(userLogin, \"web_users.yaml\");\n",
      "        WebUser webUser = aiWebUser.toWebUser();\n",
      "\n",
      "        selenideSetUp();\n",
      "        open(stand.getNewEfrApplicationUrl());\n",
      "\n",
      "        // =---> Предусловие 1: Выполнен вход в новую карточку ЕФР\n",
      "        NewEfrLoginPage loginPage = new NewEfrLoginPage();\n",
      "        loginPage.login(webUser);\n",
      "\n",
      "        // =---> Предусловие 2: Открыт раздел «Личный кабинет» - Задачи работника\n",
      "        PersonalAccountPage personalAccountPage = new PersonalAccountPage();\n",
      "        personalAccountPage.openTopMenu();\n",
      "        personalAccountPage.openPersonalAccount();\n",
      "        personalAccountPage.openEmployeeTasks();\n",
      "\n",
      "        // =---> Шаг 1: Переход на задачу с детальной информацией\n",
      "        personalAccountPage.clickOnTaskDetail();\n",
      "\n",
      "\n",
      "    }\n",
      "}\n",
      "\n"
     ]
    },
    {
     "data": {
      "text/plain": [
       "str"
      ]
     },
     "execution_count": 12,
     "metadata": {},
     "output_type": "execute_result"
    }
   ],
   "execution_count": 12
  },
  {
   "metadata": {
    "ExecuteTime": {
     "end_time": "2024-08-16T10:53:46.187923Z",
     "start_time": "2024-08-16T10:53:42.973269Z"
    }
   },
   "cell_type": "code",
   "source": [
    "vectorized_autotest_with_comments = process_df(autotest_with_comments)\n",
    "vectorized_autotest_without_comments = process_df(autotest_without_comments)\n",
    "vectorized_another_autotest = process_df(another_autotest)"
   ],
   "id": "82a26005d4bfe856",
   "outputs": [],
   "execution_count": 13
  },
  {
   "metadata": {
    "ExecuteTime": {
     "end_time": "2024-08-16T10:53:46.191516Z",
     "start_time": "2024-08-16T10:53:46.188660Z"
    }
   },
   "cell_type": "code",
   "source": "F.cosine_similarity(vectorized_autotest_without_comments, vectorized_test_case[0])",
   "id": "3ff0e3c56d83bc34",
   "outputs": [
    {
     "data": {
      "text/plain": [
       "tensor([0.5281], device='cuda:0')"
      ]
     },
     "execution_count": 14,
     "metadata": {},
     "output_type": "execute_result"
    }
   ],
   "execution_count": 14
  },
  {
   "metadata": {
    "ExecuteTime": {
     "end_time": "2024-08-16T10:53:46.222075Z",
     "start_time": "2024-08-16T10:53:46.191960Z"
    }
   },
   "cell_type": "code",
   "source": "F.cosine_similarity(vectorized_autotest_with_comments, vectorized_test_case[0])",
   "id": "359648349aca3759",
   "outputs": [
    {
     "data": {
      "text/plain": [
       "tensor([0.5364], device='cuda:0')"
      ]
     },
     "execution_count": 15,
     "metadata": {},
     "output_type": "execute_result"
    }
   ],
   "execution_count": 15
  },
  {
   "metadata": {
    "ExecuteTime": {
     "end_time": "2024-08-16T10:53:46.245041Z",
     "start_time": "2024-08-16T10:53:46.222568Z"
    }
   },
   "cell_type": "code",
   "source": "F.cosine_similarity(vectorized_another_autotest, vectorized_test_case[0])",
   "id": "496c7d780ec55791",
   "outputs": [
    {
     "data": {
      "text/plain": [
       "tensor([0.4819], device='cuda:0')"
      ]
     },
     "execution_count": 16,
     "metadata": {},
     "output_type": "execute_result"
    }
   ],
   "execution_count": 16
  },
  {
   "metadata": {
    "ExecuteTime": {
     "end_time": "2024-08-16T10:57:37.299146Z",
     "start_time": "2024-08-16T10:57:37.281960Z"
    }
   },
   "cell_type": "code",
   "source": "F.cosine_similarity(vectorized_autotest_with_comments, vectorized_autotest_without_comments)",
   "id": "50c14cafb3da890",
   "outputs": [
    {
     "data": {
      "text/plain": [
       "tensor([0.9929], device='cuda:0')"
      ]
     },
     "execution_count": 17,
     "metadata": {},
     "output_type": "execute_result"
    }
   ],
   "execution_count": 17
  },
  {
   "metadata": {
    "ExecuteTime": {
     "end_time": "2024-08-16T10:58:41.741842Z",
     "start_time": "2024-08-16T10:58:41.724836Z"
    }
   },
   "cell_type": "code",
   "source": "F.cosine_similarity(vectorized_another_autotest, vectorized_autotest_without_comments)",
   "id": "35f9ec15621d3343",
   "outputs": [
    {
     "data": {
      "text/plain": [
       "tensor([0.9702], device='cuda:0')"
      ]
     },
     "execution_count": 18,
     "metadata": {},
     "output_type": "execute_result"
    }
   ],
   "execution_count": 18
  },
  {
   "metadata": {},
   "cell_type": "code",
   "outputs": [],
   "execution_count": null,
   "source": "",
   "id": "e02bf41cf4604ddc"
  }
 ],
 "metadata": {
  "kernelspec": {
   "display_name": "Python 3",
   "language": "python",
   "name": "python3"
  },
  "language_info": {
   "codemirror_mode": {
    "name": "ipython",
    "version": 2
   },
   "file_extension": ".py",
   "mimetype": "text/x-python",
   "name": "python",
   "nbconvert_exporter": "python",
   "pygments_lexer": "ipython2",
   "version": "2.7.6"
  }
 },
 "nbformat": 4,
 "nbformat_minor": 5
}
